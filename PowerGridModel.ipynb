{
 "cells": [
  {
   "cell_type": "code",
   "execution_count": 1,
   "metadata": {},
   "outputs": [],
   "source": [
    "import pandapower as pp\n",
    " \n",
    "net = pp.create_empty_network()"
   ]
  },
  {
   "cell_type": "markdown",
   "metadata": {},
   "source": [
    "## Create lines types from parameters"
   ]
  },
  {
   "cell_type": "code",
   "execution_count": 2,
   "metadata": {},
   "outputs": [],
   "source": [
    "line_data = {\"c_nf_per_km\": 0.0, \"r_ohm_per_km\": 0.4917, \"x_ohm_per_km\": 0.2847, \"max_i_ka\": 1.0, \"type\": \"ol\"}\n",
    "pp.create_std_type(net, line_data, \"OH1\", element='line')"
   ]
  },
  {
   "cell_type": "code",
   "execution_count": 3,
   "metadata": {},
   "outputs": [],
   "source": [
    "line_data = {\"c_nf_per_km\": 0.0, \"r_ohm_per_km\": 1.3207, \"x_ohm_per_km\": 0.3210, \"max_i_ka\": 1.0, \"type\": \"ol\"}\n",
    "pp.create_std_type(net, line_data, \"OH2\", element='line')"
   ]
  },
  {
   "cell_type": "code",
   "execution_count": 4,
   "metadata": {},
   "outputs": [],
   "source": [
    "line_data = {\"c_nf_per_km\": 0.0, \"r_ohm_per_km\": 0.1620, \"x_ohm_per_km\": 0.0832, \"max_i_ka\": 1.0, \"type\": \"cs\"}\n",
    "pp.create_std_type(net, line_data, \"UG1\", element='line')"
   ]
  },
  {
   "cell_type": "code",
   "execution_count": 5,
   "metadata": {},
   "outputs": [],
   "source": [
    "line_data = {\"c_nf_per_km\": 0.0, \"r_ohm_per_km\": 0.2647, \"x_ohm_per_km\": 0.0823, \"max_i_ka\": 1.0, \"type\": \"cs\"}\n",
    "pp.create_std_type(net, line_data, \"UG2\", element='line')"
   ]
  },
  {
   "cell_type": "code",
   "execution_count": 6,
   "metadata": {},
   "outputs": [],
   "source": [
    "line_data = {\"c_nf_per_km\": 0.0, \"r_ohm_per_km\": 0.8220, \"x_ohm_per_km\": 0.0847, \"max_i_ka\": 1.0, \"type\": \"cs\"}\n",
    "pp.create_std_type(net, line_data, \"UG3\", element='line')"
   ]
  },
  {
   "cell_type": "markdown",
   "metadata": {},
   "source": [
    "## Define geographical information\n",
    "Upload geodata for buses from .csv"
   ]
  },
  {
   "cell_type": "code",
   "execution_count": 7,
   "metadata": {
    "scrolled": true
   },
   "outputs": [],
   "source": [
    "import pandas as pd\n",
    "\n",
    "geo = pd.read_csv(\"bus_geodata.csv\", index_col=0)"
   ]
  },
  {
   "cell_type": "markdown",
   "metadata": {},
   "source": [
    "## Implement model\n",
    "Create buses (MV and LV)"
   ]
  },
  {
   "cell_type": "code",
   "execution_count": 8,
   "metadata": {},
   "outputs": [],
   "source": [
    "coord = (geo.loc[\"Bus 0 MV\", \"x\"], geo.loc[\"Bus 0 MV\", \"y\"])\n",
    "pp.create_bus(net, name=\"Bus 0 MV\", vn_kv=20.0, type=\"b\", geodata=coord)\n",
    "\n",
    "coord = (geo.loc[\"Bus R0 MV\", \"x\"], geo.loc[\"Bus R0 MV\", \"y\"])\n",
    "pp.create_bus(net, name=\"Bus R0 MV\", vn_kv=20.0, type=\"b\", geodata=coord)\n",
    "for i in range(1, 19):\n",
    "    name = \"Bus R{} LV\".format(i)\n",
    "    coord = (geo.loc[name, \"x\"], geo.loc[name, \"y\"])\n",
    "    pp.create_bus(net, name=name, vn_kv=0.4, type=\"n\", geodata=coord)\n",
    "\n",
    "coord = (geo.loc[\"Bus I0 MV\", \"x\"], geo.loc[\"Bus I0 MV\", \"y\"])\n",
    "pp.create_bus(net, name=\"Bus I0 MV\", vn_kv=20.0, type=\"b\", geodata=coord)\n",
    "for i in range(1, 3):\n",
    "    name = \"Bus I{} LV\".format(i)\n",
    "    coord = (geo.loc[name, \"x\"], geo.loc[name, \"y\"])\n",
    "    pp.create_bus(net, name=name, vn_kv=0.4, type=\"n\", geodata=coord)\n",
    "\n",
    "coord = (geo.loc[\"Bus C0 MV\", \"x\"], geo.loc[\"Bus C0 MV\", \"y\"])\n",
    "pp.create_bus(net, name=\"Bus C0 MV\", vn_kv=20.0, type=\"b\", geodata=coord)\n",
    "for i in range(1, 21):\n",
    "    name = \"Bus C{} LV\".format(i)\n",
    "    coord = (geo.loc[name, \"x\"], geo.loc[name, \"y\"])\n",
    "    pp.create_bus(net, name=name, vn_kv=0.4, type=\"n\", geodata=coord)"
   ]
  },
  {
   "cell_type": "markdown",
   "metadata": {},
   "source": [
    "Add lines (LV) -> Residential"
   ]
  },
  {
   "cell_type": "code",
   "execution_count": 9,
   "metadata": {},
   "outputs": [],
   "source": [
    "for i in range(2, 11):\n",
    "    from_bus = pp.get_element_index(net, \"bus\", \"Bus R{} LV\".format(i-1))\n",
    "    to_bus = pp.get_element_index(net, \"bus\", \"Bus R{} LV\".format(i))\n",
    "    pp.create_line(net, from_bus, to_bus, length_km=0.035, std_type=\"UG1\", name=\"Line R{}-R{}\".format(i-1, i))\n",
    "\n",
    "for u, v in [(3, 11), (4, 12), (12, 13), (13, 14), (14, 15), (6, 16), (9, 17), (10, 18)]:\n",
    "    from_bus = pp.get_element_index(net, \"bus\", \"Bus R{} LV\".format(u))\n",
    "    to_bus = pp.get_element_index(net, \"bus\", \"Bus R{} LV\".format(v))\n",
    "    pp.create_line(net, from_bus, to_bus, length_km=0.030, std_type=\"UG3\", name=\"Line R{}-R{}\".format(u, v))"
   ]
  },
  {
   "cell_type": "markdown",
   "metadata": {},
   "source": [
    "Add lines (LV) -> Industral"
   ]
  },
  {
   "cell_type": "code",
   "execution_count": 10,
   "metadata": {},
   "outputs": [
    {
     "data": {
      "text/plain": [
       "17"
      ]
     },
     "execution_count": 10,
     "metadata": {},
     "output_type": "execute_result"
    }
   ],
   "source": [
    "from_bus = pp.get_element_index(net, \"bus\", \"Bus I1 LV\")\n",
    "to_bus = pp.get_element_index(net, \"bus\", \"Bus I2 LV\")\n",
    "pp.create_line(net, from_bus, to_bus, length_km=0.20, std_type=\"UG2\", name=\"Line I1-I2\")"
   ]
  },
  {
   "cell_type": "markdown",
   "metadata": {},
   "source": [
    "Add lines (LV) -> Commercial"
   ]
  },
  {
   "cell_type": "code",
   "execution_count": 11,
   "metadata": {},
   "outputs": [],
   "source": [
    "for i in range(2, 10):\n",
    "    from_bus = pp.get_element_index(net, \"bus\", \"Bus C{} LV\".format(i-1))\n",
    "    to_bus = pp.get_element_index(net, \"bus\", \"Bus C{} LV\".format(i))\n",
    "    pp.create_line(net, from_bus, to_bus, length_km=0.030, std_type=\"OH1\", name=\"Line C{}-C{}\".format(i-1, i))\n",
    "\n",
    "for u, v in [(3, 10), (10, 11), (11, 12), (11, 13), (10, 14), (5, 15), (15, 16), (15, 17), (16, 18), (8, 19), (9, 20)]:\n",
    "    from_bus = pp.get_element_index(net, \"bus\", \"Bus C{} LV\".format(u))\n",
    "    to_bus = pp.get_element_index(net, \"bus\", \"Bus C{} LV\".format(v))\n",
    "    pp.create_line(net, from_bus, to_bus, length_km=0.030, std_type=\"OH2\", name=\"Line C{}-C{}\".format(u, v))"
   ]
  },
  {
   "cell_type": "markdown",
   "metadata": {},
   "source": [
    "Add transformer (MV to LV) -> Residential"
   ]
  },
  {
   "cell_type": "code",
   "execution_count": 12,
   "metadata": {},
   "outputs": [
    {
     "data": {
      "text/plain": [
       "0"
      ]
     },
     "execution_count": 12,
     "metadata": {},
     "output_type": "execute_result"
    }
   ],
   "source": [
    "hv_bus = pp.get_element_index(net, \"bus\", \"Bus R0 MV\")\n",
    "lv_bus = pp.get_element_index(net, \"bus\", \"Bus R1 LV\")\n",
    "pp.create_transformer(net, hv_bus=hv_bus, lv_bus=lv_bus, std_type=\"0.63 MVA 20/0.4 kV\", name=\"Tr R0-R1\")"
   ]
  },
  {
   "cell_type": "markdown",
   "metadata": {},
   "source": [
    "Add transformer (MV to LV) -> Industrial"
   ]
  },
  {
   "cell_type": "code",
   "execution_count": 13,
   "metadata": {},
   "outputs": [
    {
     "data": {
      "text/plain": [
       "1"
      ]
     },
     "execution_count": 13,
     "metadata": {},
     "output_type": "execute_result"
    }
   ],
   "source": [
    "hv_bus = pp.get_element_index(net, \"bus\", \"Bus I0 MV\")\n",
    "lv_bus = pp.get_element_index(net, \"bus\", \"Bus I1 LV\")\n",
    "pp.create_transformer(net, hv_bus=hv_bus, lv_bus=lv_bus, std_type=\"0.25 MVA 20/0.4 kV\", name=\"Tr I0-I1\")"
   ]
  },
  {
   "cell_type": "markdown",
   "metadata": {},
   "source": [
    "Add transformer (MV to LV) -> Commercial"
   ]
  },
  {
   "cell_type": "code",
   "execution_count": 14,
   "metadata": {},
   "outputs": [
    {
     "data": {
      "text/plain": [
       "2"
      ]
     },
     "execution_count": 14,
     "metadata": {},
     "output_type": "execute_result"
    }
   ],
   "source": [
    "hv_bus = pp.get_element_index(net, \"bus\", \"Bus C0 MV\")\n",
    "lv_bus = pp.get_element_index(net, \"bus\", \"Bus C1 LV\")\n",
    "pp.create_transformer(net, hv_bus=hv_bus, lv_bus=lv_bus, std_type=\"0.4 MVA 20/0.4 kV\", name=\"Tr C0-C1\")"
   ]
  },
  {
   "cell_type": "markdown",
   "metadata": {},
   "source": [
    "Add switches"
   ]
  },
  {
   "cell_type": "code",
   "execution_count": 15,
   "metadata": {},
   "outputs": [
    {
     "data": {
      "text/plain": [
       "2"
      ]
     },
     "execution_count": 15,
     "metadata": {},
     "output_type": "execute_result"
    }
   ],
   "source": [
    "bus = pp.get_element_index(net, \"bus\", \"Bus 0 MV\")\n",
    "\n",
    "e1 = pp.get_element_index(net, \"bus\", \"Bus R0 MV\")\n",
    "pp.create_switch(net, bus, e1, et=\"b\", closed=True, type=\"CB\", name=\"S1\")\n",
    "\n",
    "e2 = pp.get_element_index(net, \"bus\", \"Bus I0 MV\")\n",
    "pp.create_switch(net, bus, e2, et=\"b\", closed=True, type=\"CB\", name=\"S2\")\n",
    "\n",
    "e3 = pp.get_element_index(net, \"bus\", \"Bus C0 MV\")\n",
    "pp.create_switch(net, bus, e3, et=\"b\", closed=True, type=\"CB\", name=\"S3\")"
   ]
  },
  {
   "cell_type": "markdown",
   "metadata": {},
   "source": [
    "Add external grid connection"
   ]
  },
  {
   "cell_type": "code",
   "execution_count": 16,
   "metadata": {},
   "outputs": [
    {
     "data": {
      "text/plain": [
       "0"
      ]
     },
     "execution_count": 16,
     "metadata": {},
     "output_type": "execute_result"
    }
   ],
   "source": [
    "bus = pp.get_element_index(net, \"bus\", \"Bus 0 MV\")\n",
    "pp.create_ext_grid(net, bus, name=\"Feeder\")"
   ]
  },
  {
   "cell_type": "markdown",
   "metadata": {},
   "source": [
    "## Define consumption points\n",
    "Set loads -> Residential"
   ]
  },
  {
   "cell_type": "code",
   "execution_count": 17,
   "metadata": {},
   "outputs": [],
   "source": [
    "load_buses_r = [\"R1\", \"R11\", \"R15\", \"R16\", \"R17\", \"R18\"]\n",
    "for b in load_buses_r:\n",
    "    bus = pp.get_element_index(net, \"bus\", \"Bus {} LV\".format(b))\n",
    "    pp.create_load(net, bus=bus, p_kw=10.0, q_kvar=1.0, scaling=1.0, name=\"Load{}\".format(b))"
   ]
  },
  {
   "cell_type": "markdown",
   "metadata": {},
   "source": [
    "Set loads -> Industrial"
   ]
  },
  {
   "cell_type": "code",
   "execution_count": 18,
   "metadata": {},
   "outputs": [
    {
     "data": {
      "text/plain": [
       "6"
      ]
     },
     "execution_count": 18,
     "metadata": {},
     "output_type": "execute_result"
    }
   ],
   "source": [
    "bus = pp.get_element_index(net, \"bus\", \"Bus I2 LV\")\n",
    "pp.create_load(net, bus=bus, p_kw=10.0, q_kvar=1.0, scaling=1.0, name=\"LoadI2\")"
   ]
  },
  {
   "cell_type": "markdown",
   "metadata": {},
   "source": [
    "Set loads -> Commercial"
   ]
  },
  {
   "cell_type": "code",
   "execution_count": 19,
   "metadata": {},
   "outputs": [],
   "source": [
    "load_buses_c = [\"C1\", \"C12\", \"C13\", \"C14\", \"C17\", \"C18\", \"C19\", \"C20\"]\n",
    "for b in load_buses_c:\n",
    "    bus = pp.get_element_index(net, \"bus\", \"Bus {} LV\".format(b))\n",
    "    pp.create_load(net, bus=bus, p_kw=10.0, q_kvar=1.0, scaling=1.0, name=\"Load{}\".format(b))"
   ]
  },
  {
   "cell_type": "markdown",
   "metadata": {},
   "source": [
    "## Export to `.json` files"
   ]
  },
  {
   "cell_type": "code",
   "execution_count": 20,
   "metadata": {},
   "outputs": [],
   "source": [
    "import os\n",
    "data_folder = \"PowerGridData\"\n",
    "\n",
    "net.bus.to_json(os.path.join(data_folder, \"bus.json\"))\n",
    "net.bus_geodata.to_json(os.path.join(data_folder, \"bus_geodata.json\"))\n",
    "net.line.to_json(os.path.join(data_folder, \"line.json\"))\n",
    "net.trafo.to_json(os.path.join(data_folder, \"trafo.json\"))\n",
    "net.switch.to_json(os.path.join(data_folder, \"switch.json\"))\n",
    "net.ext_grid.to_json(os.path.join(data_folder, \"ext_grid.json\"))\n",
    "net.load.to_json(os.path.join(data_folder, \"load.json\"))"
   ]
  },
  {
   "cell_type": "markdown",
   "metadata": {},
   "source": [
    "## TEST: re-import from `.json` files and run power flow"
   ]
  },
  {
   "cell_type": "code",
   "execution_count": 21,
   "metadata": {},
   "outputs": [],
   "source": [
    "import json\n",
    "import numpy as np"
   ]
  },
  {
   "cell_type": "code",
   "execution_count": 22,
   "metadata": {},
   "outputs": [],
   "source": [
    "def set_value(net, table, name, col, value):\n",
    "    df = getattr(net, table)\n",
    "    df.loc[df.name == name, col] = value\n",
    "\n",
    "def get_res_value(net, table, name, res_col):\n",
    "    obj = pp.get_element_index(net, table, name)\n",
    "    df = getattr(net, \"res_\"+table)\n",
    "    return df.loc[obj, res_col]"
   ]
  },
  {
   "cell_type": "code",
   "execution_count": 23,
   "metadata": {},
   "outputs": [],
   "source": [
    "net = pp.create_empty_network()\n",
    "\n",
    "for i in [\"bus\", \"bus_geodata\", \"line\", \"switch\", \"trafo\", \"ext_grid\", \"load\"]:\n",
    "    df = pd.DataFrame(json.load(open(os.path.join(data_folder, '{}.json'.format(i)))))\n",
    "    df.index = map(int, df.index)\n",
    "    setattr(net, i, df)"
   ]
  },
  {
   "cell_type": "code",
   "execution_count": 24,
   "metadata": {},
   "outputs": [],
   "source": [
    "input_values = {\"LoadR1_p_kw\": 15.0, \"LoadR1_q_kvar\": 1.5}\n",
    "\n",
    "for key, value in input_values.items():\n",
    "    a = key.split(\"_\")\n",
    "    set_value(net, \"load\", a[0], a[1]+\"_\"+a[2], value)"
   ]
  },
  {
   "cell_type": "code",
   "execution_count": 25,
   "metadata": {},
   "outputs": [
    {
     "data": {
      "text/html": [
       "<div>\n",
       "<style scoped>\n",
       "    .dataframe tbody tr th:only-of-type {\n",
       "        vertical-align: middle;\n",
       "    }\n",
       "\n",
       "    .dataframe tbody tr th {\n",
       "        vertical-align: top;\n",
       "    }\n",
       "\n",
       "    .dataframe thead th {\n",
       "        text-align: right;\n",
       "    }\n",
       "</style>\n",
       "<table border=\"1\" class=\"dataframe\">\n",
       "  <thead>\n",
       "    <tr style=\"text-align: right;\">\n",
       "      <th></th>\n",
       "      <th>bus</th>\n",
       "      <th>const_i_percent</th>\n",
       "      <th>const_z_percent</th>\n",
       "      <th>in_service</th>\n",
       "      <th>name</th>\n",
       "      <th>p_kw</th>\n",
       "      <th>q_kvar</th>\n",
       "      <th>scaling</th>\n",
       "      <th>sn_kva</th>\n",
       "      <th>type</th>\n",
       "    </tr>\n",
       "  </thead>\n",
       "  <tbody>\n",
       "    <tr>\n",
       "      <th>0</th>\n",
       "      <td>2</td>\n",
       "      <td>0.0</td>\n",
       "      <td>0.0</td>\n",
       "      <td>True</td>\n",
       "      <td>LoadR1</td>\n",
       "      <td>15.0</td>\n",
       "      <td>1.5</td>\n",
       "      <td>1.0</td>\n",
       "      <td>None</td>\n",
       "      <td>None</td>\n",
       "    </tr>\n",
       "  </tbody>\n",
       "</table>\n",
       "</div>"
      ],
      "text/plain": [
       "   bus  const_i_percent  const_z_percent  in_service    name  p_kw  q_kvar  \\\n",
       "0    2              0.0              0.0        True  LoadR1  15.0     1.5   \n",
       "\n",
       "   scaling sn_kva  type  \n",
       "0      1.0   None  None  "
      ]
     },
     "execution_count": 25,
     "metadata": {},
     "output_type": "execute_result"
    }
   ],
   "source": [
    "net.load.loc[net.load.name == \"LoadR1\"]"
   ]
  },
  {
   "cell_type": "code",
   "execution_count": 26,
   "metadata": {},
   "outputs": [],
   "source": [
    "pp.runpp(net)"
   ]
  },
  {
   "cell_type": "markdown",
   "metadata": {},
   "source": [
    "## TEST run some test for the wrapper"
   ]
  },
  {
   "cell_type": "code",
   "execution_count": 27,
   "metadata": {},
   "outputs": [],
   "source": [
    "set_attrs = [n+\"_p_kw\" for n in net.load.name]\n",
    "set_attrs += [n+\"_q_kvar\" for n in net.load.name]"
   ]
  },
  {
   "cell_type": "code",
   "execution_count": 31,
   "metadata": {},
   "outputs": [
    {
     "name": "stdout",
     "output_type": "stream",
     "text": [
      "IN||PowerGrid||LoadR1_p_kw 5.0\n",
      "IN||PowerGrid||LoadR11_p_kw 5.0\n",
      "IN||PowerGrid||LoadC14_p_kw 5.0\n",
      "IN||PowerGrid||LoadC17_p_kw 5.0\n",
      "IN||PowerGrid||LoadC18_p_kw 5.0\n",
      "IN||PowerGrid||LoadC19_p_kw 5.0\n",
      "IN||PowerGrid||LoadC20_p_kw 5.0\n",
      "IN||PowerGrid||LoadR15_p_kw 5.0\n",
      "IN||PowerGrid||LoadR16_p_kw 5.0\n",
      "IN||PowerGrid||LoadR17_p_kw 5.0\n",
      "IN||PowerGrid||LoadR18_p_kw 5.0\n",
      "IN||PowerGrid||LoadI2_p_kw 5.0\n",
      "IN||PowerGrid||LoadC1_p_kw 5.0\n",
      "IN||PowerGrid||LoadC12_p_kw 5.0\n",
      "IN||PowerGrid||LoadC13_p_kw 5.0\n",
      "IN||PowerGrid||LoadR1_q_kvar 5.0\n",
      "IN||PowerGrid||LoadR11_q_kvar 5.0\n",
      "IN||PowerGrid||LoadC14_q_kvar 5.0\n",
      "IN||PowerGrid||LoadC17_q_kvar 5.0\n",
      "IN||PowerGrid||LoadC18_q_kvar 5.0\n",
      "IN||PowerGrid||LoadC19_q_kvar 5.0\n",
      "IN||PowerGrid||LoadC20_q_kvar 5.0\n",
      "IN||PowerGrid||LoadR15_q_kvar 5.0\n",
      "IN||PowerGrid||LoadR16_q_kvar 5.0\n",
      "IN||PowerGrid||LoadR17_q_kvar 5.0\n",
      "IN||PowerGrid||LoadR18_q_kvar 5.0\n",
      "IN||PowerGrid||LoadI2_q_kvar 5.0\n",
      "IN||PowerGrid||LoadC1_q_kvar 5.0\n",
      "IN||PowerGrid||LoadC12_q_kvar 5.0\n",
      "IN||PowerGrid||LoadC13_q_kvar 5.0\n"
     ]
    }
   ],
   "source": [
    "input_values = {sa: 5.0 for sa in set_attrs}\n",
    "\n",
    "for key, value in input_values.items():\n",
    "    a = key.split(\"_\")\n",
    "    set_value(net, \"load\", a[0], a[1]+\"_\"+a[2], value)\n",
    "    print('IN||' + \"PowerGrid\" + '||' + key, value)"
   ]
  },
  {
   "cell_type": "code",
   "execution_count": 32,
   "metadata": {},
   "outputs": [
    {
     "data": {
      "text/plain": [
       "{'Feeder_p_kw': -161.74801143909434, 'Feeder_q_kvar': -18.157630956274318}"
      ]
     },
     "execution_count": 32,
     "metadata": {},
     "output_type": "execute_result"
    }
   ],
   "source": [
    "output_attributes = [\"Feeder_p_kw\", \"Feeder_q_kvar\"]\n",
    "\n",
    "o_attr = {}\n",
    "for key in output_attributes:\n",
    "    a = key.split(\"_\")\n",
    "    o_attr[key] = get_res_value(net, \"ext_grid\", a[0], a[1]+\"_\"+a[2])\n",
    "\n",
    "o_attr"
   ]
  },
  {
   "cell_type": "code",
   "execution_count": 34,
   "metadata": {},
   "outputs": [
    {
     "name": "stdout",
     "output_type": "stream",
     "text": [
      "OUT||PowerGrid||Feeder_p_kw -161.74801143909434\n",
      "OUT||PowerGrid||Feeder_q_kvar -18.157630956274318\n"
     ]
    }
   ],
   "source": [
    "for key in output_attributes:\n",
    "    print('OUT||' + \"PowerGrid\" + '||' + key, o_attr[key])"
   ]
  }
 ],
 "metadata": {
  "kernelspec": {
   "display_name": "Python 3",
   "language": "python",
   "name": "python3"
  },
  "language_info": {
   "codemirror_mode": {
    "name": "ipython",
    "version": 3
   },
   "file_extension": ".py",
   "mimetype": "text/x-python",
   "name": "python",
   "nbconvert_exporter": "python",
   "pygments_lexer": "ipython3",
   "version": "3.6.1"
  }
 },
 "nbformat": 4,
 "nbformat_minor": 2
}
